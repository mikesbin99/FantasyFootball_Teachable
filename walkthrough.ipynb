{
 "cells": [
  {
   "cell_type": "code",
   "execution_count": 1,
   "metadata": {},
   "outputs": [],
   "source": [
    "import os\n",
    "import pickle\n",
    "import numpy as np\n",
    "import sys\n",
    "\n",
    "from tqdm import tqdm\n",
    "from os.path import expanduser\n",
    "\n",
    "# add path to directory that contains web.py to system\n",
    "sys.path.insert(0, os.path.join(expanduser(\"~\"), \"teachableDFS\"))\n",
    "from web import FootballBoxscore, unique_game_links\n",
    "from config import CACHE_DIRECTORY"
   ]
  },
  {
   "cell_type": "markdown",
   "metadata": {},
   "source": [
    "## Parameters\n"
   ]
  },
  {
   "cell_type": "code",
   "execution_count": 2,
   "metadata": {},
   "outputs": [],
   "source": [
    "seasons = [2018, 2019, 2020, 2021]"
   ]
  },
  {
   "cell_type": "markdown",
   "metadata": {},
   "source": [
    "## Web"
   ]
  },
  {
   "cell_type": "code",
   "execution_count": 3,
   "metadata": {},
   "outputs": [
    {
     "name": "stderr",
     "output_type": "stream",
     "text": [
      "100%|██████████| 267/267 [02:28<00:00,  1.80it/s]\n",
      "100%|██████████| 267/267 [02:43<00:00,  1.64it/s]\n",
      "100%|██████████| 269/269 [02:43<00:00,  1.64it/s]\n",
      " 98%|█████████▊| 48/49 [00:27<00:00,  1.72it/s]\n"
     ]
    }
   ],
   "source": [
    "all_scores = {}\n",
    "for season in seasons:\n",
    "    links = unique_game_links(season)\n",
    "    all_scores[season] = [FootballBoxscore(\"https://www.pro-football-reference.com/\" + link) for link in links]\n",
    "    \n",
    "    for fbs in tqdm(all_scores[season]):\n",
    "        try: \n",
    "            fbs.full_scrape()\n",
    "        except AttributeError:\n",
    "            break\n",
    "\n",
    "    # Cache the results\n",
    "    if not os.path.exists(CACHE_DIRECTORY):\n",
    "        os.makedirs(CACHE_DIRECTORY)\n",
    "    \n",
    "    data_path = os.path.join(CACHE_DIRECTORY, f\"{season}_box.pkl\")\n",
    "    pickle.dump(all_scores[season], open(data_path,'wb'))"
   ]
  },
  {
   "cell_type": "markdown",
   "metadata": {},
   "source": [
    "## Data"
   ]
  },
  {
   "cell_type": "code",
   "execution_count": 4,
   "metadata": {},
   "outputs": [],
   "source": [
    "from data import ScoreTable, OffenseTable, DefenseTeamTable, OffenseTeamTable\n",
    "from data import AdvancedPassingTable, AdvancedReceivingTable, AdvancedRushingTable "
   ]
  },
  {
   "cell_type": "code",
   "execution_count": 5,
   "metadata": {
    "scrolled": true
   },
   "outputs": [
    {
     "name": "stderr",
     "output_type": "stream",
     "text": [
      "100%|██████████| 267/267 [00:00<00:00, 2320.94it/s]\n",
      "100%|██████████| 267/267 [00:02<00:00, 131.39it/s]\n",
      "100%|██████████| 267/267 [00:01<00:00, 148.15it/s]\n",
      "100%|██████████| 267/267 [00:01<00:00, 145.87it/s]\n",
      "100%|██████████| 267/267 [00:01<00:00, 144.51it/s]\n",
      "100%|██████████| 267/267 [00:01<00:00, 157.19it/s]\n",
      "100%|██████████| 267/267 [00:00<00:00, 2384.62it/s]\n",
      "100%|██████████| 267/267 [00:01<00:00, 160.63it/s]\n",
      "100%|██████████| 267/267 [00:00<00:00, 2504.26it/s]\n",
      "100%|██████████| 267/267 [00:01<00:00, 140.70it/s]\n",
      "100%|██████████| 267/267 [00:01<00:00, 147.65it/s]\n",
      "100%|██████████| 267/267 [00:01<00:00, 148.73it/s]\n",
      "100%|██████████| 267/267 [00:01<00:00, 149.37it/s]\n",
      "100%|██████████| 267/267 [00:01<00:00, 159.29it/s]\n",
      "100%|██████████| 267/267 [00:00<00:00, 2490.23it/s]\n",
      "100%|██████████| 267/267 [00:01<00:00, 162.31it/s]\n",
      "100%|██████████| 269/269 [00:00<00:00, 2359.37it/s]\n",
      "100%|██████████| 269/269 [00:01<00:00, 139.63it/s]\n",
      "100%|██████████| 269/269 [00:01<00:00, 145.42it/s]\n",
      "100%|██████████| 269/269 [00:01<00:00, 146.24it/s]\n",
      "100%|██████████| 269/269 [00:01<00:00, 145.75it/s]\n",
      "100%|██████████| 269/269 [00:01<00:00, 157.95it/s]\n",
      "100%|██████████| 269/269 [00:00<00:00, 2487.59it/s]\n",
      "100%|██████████| 269/269 [00:01<00:00, 155.61it/s]\n",
      "100%|██████████| 48/48 [00:00<00:00, 2424.92it/s]\n",
      "100%|██████████| 48/48 [00:00<00:00, 138.43it/s]\n",
      "100%|██████████| 48/48 [00:00<00:00, 141.92it/s]\n",
      "100%|██████████| 48/48 [00:00<00:00, 141.79it/s]\n",
      "100%|██████████| 48/48 [00:00<00:00, 145.36it/s]\n",
      "100%|██████████| 48/48 [00:00<00:00, 157.89it/s]\n",
      "100%|██████████| 48/48 [00:00<00:00, 2425.50it/s]\n",
      "100%|██████████| 48/48 [00:00<00:00, 157.09it/s]\n"
     ]
    }
   ],
   "source": [
    "# Feature space classes will get references to these, so make sure they are built\n",
    "for season in seasons:\n",
    "    complete_boxscores = [box for box in all_scores[season] if \"adv_player_passing\" in box.__dict__.keys()]\n",
    "    score_table        = ScoreTable(refresh=True, season=season, boxscores=complete_boxscores)\n",
    "    offense_table      = OffenseTable(refresh=True, season=season, boxscores=complete_boxscores)\n",
    "    adv_passing_table  = AdvancedPassingTable(refresh=True, season=season, boxscores=complete_boxscores)\n",
    "    adv_recv_table     = AdvancedReceivingTable(refresh=True, season=season, boxscores=complete_boxscores)\n",
    "    adv_rush_table     = AdvancedRushingTable(refresh=True, season=season, boxscores=complete_boxscores)\n",
    "    defense_table      = DefenseTeamTable(refresh=True, season=season, boxscores=complete_boxscores)\n",
    "    offense_team_table = OffenseTeamTable(refresh=True, season=season, boxscores=complete_boxscores)"
   ]
  },
  {
   "cell_type": "markdown",
   "metadata": {},
   "source": [
    "### Model"
   ]
  },
  {
   "cell_type": "code",
   "execution_count": 6,
   "metadata": {},
   "outputs": [],
   "source": [
    "from model import QuarterbackFeatureSpaceTable, PositionPlayerFeatureSpaceTable, DefenseFeatureSpaceTable"
   ]
  },
  {
   "cell_type": "code",
   "execution_count": 7,
   "metadata": {
    "scrolled": false
   },
   "outputs": [
    {
     "name": "stderr",
     "output_type": "stream",
     "text": [
      "1588it [00:23, 68.54it/s]\n",
      "13650it [04:01, 56.61it/s]\n",
      "1546it [00:15, 100.27it/s]\n"
     ]
    }
   ],
   "source": [
    "qb_featurespace    = QuarterbackFeatureSpaceTable(seasons=seasons)\n",
    "pl_featurespace    = PositionPlayerFeatureSpaceTable(seasons=seasons)\n",
    "df_featurespace    = DefenseFeatureSpaceTable(seasons=seasons)"
   ]
  },
  {
   "cell_type": "markdown",
   "metadata": {},
   "source": [
    "### Sim"
   ]
  },
  {
   "cell_type": "code",
   "execution_count": 8,
   "metadata": {},
   "outputs": [],
   "source": [
    "from sim import PayoutTable, BacktestLinksTable, HistoricalSalaryTable, BacktestStandingsTable\n",
    "from sim import BacktestPlayerPerformanceTable, BacktestPredictionsTable"
   ]
  },
  {
   "cell_type": "code",
   "execution_count": 9,
   "metadata": {
    "scrolled": true
   },
   "outputs": [
    {
     "name": "stderr",
     "output_type": "stream",
     "text": [
      "100%|██████████| 45/45 [00:17<00:00,  2.60it/s]\n",
      "10it [00:09,  1.04it/s]\n",
      "100%|██████████| 45/45 [00:12<00:00,  3.64it/s]\n",
      "10it [00:08,  1.16it/s]\n",
      "100%|██████████| 45/45 [00:12<00:00,  3.58it/s]\n",
      "10it [00:08,  1.16it/s]\n",
      "45it [00:00, 68.36it/s]\n",
      "380it [00:06, 58.45it/s]\n",
      "26it [00:00, 97.98it/s]\n",
      "43it [00:00, 69.85it/s]\n",
      "380it [00:06, 57.81it/s]\n",
      "26it [00:00, 99.84it/s]\n",
      "36it [00:00, 70.48it/s]\n",
      "322it [00:05, 58.06it/s]\n",
      "22it [00:00, 98.32it/s]\n",
      "44it [00:00, 70.44it/s]\n",
      "344it [00:05, 58.20it/s]\n",
      "24it [00:00, 99.42it/s]\n",
      "41it [00:00, 70.10it/s]\n",
      "308it [00:05, 57.95it/s]\n",
      "22it [00:00, 96.98it/s]\n",
      "43it [00:00, 68.09it/s]\n",
      "338it [00:05, 57.30it/s]\n",
      "24it [00:00, 98.94it/s]\n",
      "42it [00:00, 69.44it/s]\n",
      "346it [00:06, 57.36it/s]\n",
      "22it [00:00, 96.97it/s]\n",
      "40it [00:00, 70.02it/s]\n",
      "308it [00:05, 58.03it/s]\n",
      "22it [00:00, 97.30it/s] \n",
      "47it [00:00, 68.42it/s]\n",
      "349it [00:06, 57.48it/s]\n",
      "22it [00:00, 96.55it/s]\n",
      "41it [00:00, 67.89it/s]\n",
      "313it [00:05, 57.08it/s]\n",
      "22it [00:00, 96.13it/s]\n"
     ]
    }
   ],
   "source": [
    "seasons = [2018, 2019, 2020]\n",
    "payoutTable           = PayoutTable(refresh=True)\n",
    "backtestLinks         = BacktestLinksTable(refresh=True)\n",
    "historicalSalary      = HistoricalSalaryTable(refresh=True, seasons=seasons)\n",
    "historicalStandings   = BacktestStandingsTable(refresh=True)\n",
    "historicalPerformance = BacktestPlayerPerformanceTable(refresh=True, seasons=seasons)\n",
    "backtestPredictions   = BacktestPredictionsTable(refresh=True, seasons=seasons)"
   ]
  },
  {
   "cell_type": "markdown",
   "metadata": {},
   "source": [
    "### Double Up Backtest"
   ]
  },
  {
   "cell_type": "code",
   "execution_count": 10,
   "metadata": {},
   "outputs": [],
   "source": [
    "from sim import DoubleupStandingsTable"
   ]
  },
  {
   "cell_type": "code",
   "execution_count": 11,
   "metadata": {},
   "outputs": [
    {
     "name": "stderr",
     "output_type": "stream",
     "text": [
      "10it [00:08,  1.19it/s]\n"
     ]
    }
   ],
   "source": [
    "historicalPerformance = BacktestPlayerPerformanceTable(refresh=False, seasons=seasons)\n",
    "backtestPredictions   = BacktestPredictionsTable(refresh=False, seasons=seasons)\n",
    "doubleupStandings     = DoubleupStandingsTable(refresh=True)"
   ]
  },
  {
   "cell_type": "code",
   "execution_count": 12,
   "metadata": {},
   "outputs": [],
   "source": [
    "perf = historicalPerformance.table.copy()\n",
    "pred = backtestPredictions.table.reset_index().rename(columns={'level_0':'name', \n",
    "                                                               'level_1':'week', \\\n",
    "                                                               'level_2':'year', \n",
    "                                                                0:'pred'}).copy()\n",
    "btTable = perf.join(pred.set_index(['name','week','year']), on=['name','week','year'])\n",
    "btTable = btTable.dropna(subset=['DK salary'])\n",
    "btTable = btTable[~((btTable.FPTS == 0) & (btTable['Roster Position'] != \"DST\"))] # Don't start anyone thats out"
   ]
  },
  {
   "cell_type": "code",
   "execution_count": 13,
   "metadata": {},
   "outputs": [],
   "source": [
    "import numpy as np\n",
    "from tqdm import tqdm\n",
    "from sim import run_doubleup_backtest"
   ]
  },
  {
   "cell_type": "code",
   "execution_count": 14,
   "metadata": {
    "scrolled": true
   },
   "outputs": [
    {
     "name": "stderr",
     "output_type": "stream",
     "text": [
      "\r",
      "  0%|          | 0/10 [00:00<?, ?it/s]"
     ]
    },
    {
     "name": "stdout",
     "output_type": "stream",
     "text": [
      "4 1.2 400.0\n",
      "4 1.3 400.0\n",
      "4 2.2 320.0\n",
      "4 2.3 320.0\n",
      "4 3.2 280.0\n"
     ]
    },
    {
     "name": "stderr",
     "output_type": "stream",
     "text": [
      "\r",
      " 30%|███       | 3/10 [00:08<00:18,  2.70s/it]"
     ]
    },
    {
     "name": "stdout",
     "output_type": "stream",
     "text": [
      "4 3.3 320.0\n",
      "5 1.2 0.0\n",
      "5 1.3 -280.0\n",
      "5 2.2 -240.0\n",
      "5 2.3 -360.0\n",
      "5 3.2 -280.0\n"
     ]
    },
    {
     "name": "stderr",
     "output_type": "stream",
     "text": [
      "\r",
      " 40%|████      | 4/10 [00:15<00:25,  4.17s/it]"
     ]
    },
    {
     "name": "stdout",
     "output_type": "stream",
     "text": [
      "5 3.3 -120.0\n",
      "6 1.2 -400.0\n",
      "6 1.3 -40.0\n",
      "6 2.2 -160.0\n",
      "6 2.3 200.0\n",
      "6 3.2 -160.0\n"
     ]
    },
    {
     "name": "stderr",
     "output_type": "stream",
     "text": [
      "\r",
      " 50%|█████     | 5/10 [00:23<00:25,  5.18s/it]"
     ]
    },
    {
     "name": "stdout",
     "output_type": "stream",
     "text": [
      "6 3.3 0.0\n",
      "7 1.2 80.0\n",
      "7 1.3 120.0\n",
      "7 2.2 280.0\n",
      "7 2.3 0.0\n",
      "7 3.2 160.0\n"
     ]
    },
    {
     "name": "stderr",
     "output_type": "stream",
     "text": [
      "\r",
      " 60%|██████    | 6/10 [00:31<00:23,  5.96s/it]"
     ]
    },
    {
     "name": "stdout",
     "output_type": "stream",
     "text": [
      "7 3.3 160.0\n",
      "8 1.2 160.0\n",
      "8 1.3 200.0\n",
      "8 2.2 280.0\n",
      "8 2.3 -120.0\n",
      "8 3.2 200.0\n"
     ]
    },
    {
     "name": "stderr",
     "output_type": "stream",
     "text": [
      "\r",
      " 70%|███████   | 7/10 [00:39<00:19,  6.59s/it]"
     ]
    },
    {
     "name": "stdout",
     "output_type": "stream",
     "text": [
      "8 3.3 40.0\n",
      "9 1.2 360.0\n",
      "9 1.3 320.0\n",
      "9 2.2 400.0\n",
      "9 2.3 240.0\n",
      "9 3.2 160.0\n"
     ]
    },
    {
     "name": "stderr",
     "output_type": "stream",
     "text": [
      "\r",
      " 80%|████████  | 8/10 [00:47<00:14,  7.02s/it]"
     ]
    },
    {
     "name": "stdout",
     "output_type": "stream",
     "text": [
      "9 3.3 200.0\n",
      "10 1.2 120.0\n",
      "10 1.3 160.0\n",
      "10 2.2 40.0\n",
      "10 2.3 360.0\n",
      "10 3.2 40.0\n"
     ]
    },
    {
     "name": "stderr",
     "output_type": "stream",
     "text": [
      "\r",
      " 90%|█████████ | 9/10 [00:54<00:07,  7.17s/it]"
     ]
    },
    {
     "name": "stdout",
     "output_type": "stream",
     "text": [
      "10 3.3 80.0\n",
      "11 1.2 0.0\n",
      "11 1.3 400.0\n",
      "11 2.2 200.0\n",
      "11 2.3 80.0\n",
      "11 3.2 80.0\n"
     ]
    },
    {
     "name": "stderr",
     "output_type": "stream",
     "text": [
      "100%|██████████| 10/10 [01:02<00:00,  6.28s/it]"
     ]
    },
    {
     "name": "stdout",
     "output_type": "stream",
     "text": [
      "11 3.3 120.0\n"
     ]
    },
    {
     "name": "stderr",
     "output_type": "stream",
     "text": [
      "\n"
     ]
    }
   ],
   "source": [
    "out = {}\n",
    "for wk, results in tqdm(btTable.groupby('week')):\n",
    "    if wk < 4.0: \n",
    "        continue\n",
    "    out[wk] = {}\n",
    "    for num_teams_to_stack in [1,2,3]:\n",
    "        for num_players_in_stack in [2,3]:\n",
    "            x = np.array([num_teams_to_stack, num_players_in_stack])\n",
    "            key = \".\".join([str(i) for i in x]) \n",
    "            out[wk][key] = run_doubleup_backtest(x,results, doubleupStandings.table.copy())\n",
    "            print(wk, key, out[wk][key])"
   ]
  },
  {
   "cell_type": "code",
   "execution_count": 15,
   "metadata": {},
   "outputs": [
    {
     "data": {
      "image/png": "[encoded data removed]",
      "text/plain": [
       "<Figure size 864x576 with 1 Axes>"
      ]
     },
     "metadata": {
      "needs_background": "light"
     },
     "output_type": "display_data"
    }
   ],
   "source": [
    "import pandas as pd\n",
    "import matplotlib.pyplot as plt\n",
    "pd.DataFrame(out).T.cumsum().plot(figsize=(12,8), title='Double Up Game - Cummulative Profit [Number Team Stacks.Players In Each Stack]')\n",
    "plt.grid(True)"
   ]
  }
 ],
 "metadata": {
  "kernelspec": {
   "display_name": "Python 3",
   "language": "python",
   "name": "python3"
  },
  "language_info": {
   "codemirror_mode": {
    "name": "ipython",
    "version": 3
   },
   "file_extension": ".py",
   "mimetype": "text/x-python",
   "name": "python",
   "nbconvert_exporter": "python",
   "pygments_lexer": "ipython3",
   "version": "3.8.10"
  }
 },
 "nbformat": 4,
 "nbformat_minor": 5
}
