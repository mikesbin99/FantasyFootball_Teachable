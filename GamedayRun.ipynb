{
 "cells": [
  {
   "cell_type": "markdown",
   "metadata": {},
   "source": [
    "# Mock Gameday Run"
   ]
  },
  {
   "cell_type": "code",
   "execution_count": 1,
   "metadata": {},
   "outputs": [],
   "source": [
    "import pandas as pd\n",
    "import cvxpy as cp\n",
    "import numpy as np\n",
    "from maps import team_map_2\n",
    "from sim import BacktestPredictionsTable"
   ]
  },
  {
   "cell_type": "markdown",
   "metadata": {},
   "source": [
    "# Prepare Ref Data & Predictions"
   ]
  },
  {
   "cell_type": "code",
   "execution_count": null,
   "metadata": {},
   "outputs": [],
   "source": [
    "sal = pd.read_csv(\"ref/DKSalariesExample.csv\")\n",
    "sal['name'] = sal.apply(lambda x: x['Name'].replace(\" \", \"\").upper() if (x['Position'] != 'DST')\n",
    "                            else team_map_2[x['Name'].replace(\" \",\"\")], axis=1)\n",
    "sal['team1'] = sal['Game Info'].apply(lambda x: x.split(\" \")[0].split(\"@\")[0])\n",
    "sal['team2'] = sal['Game Info'].apply(lambda x: x.split(\" \")[0].split(\"@\")[1])\n",
    "del sal['Game Info']\n",
    "sal['opp'] = sal.apply(lambda x: x['team2'] if x['team1'] == x['TeamAbbrev'] else x['team1'], axis=1)\n",
    "sal['date'] = pd.Timestamp(\"2021.09.01\")\n",
    "sal['year'] = 2021\n",
    "sal['week'] = 1\n",
    "btp = BacktestPredictionsTable(seasons=[2018,2019,2020,2021], refresh=False)\n",
    "btp.build(matchups=sal)"
   ]
  },
  {
   "cell_type": "code",
   "execution_count": null,
   "metadata": {},
   "outputs": [],
   "source": [
    "predictions = btp.table.reset_index().set_index(\"level_0\")[0].rename(\"pred\")\n",
    "results = sal.join(predictions, on=['name'])"
   ]
  },
  {
   "cell_type": "markdown",
   "metadata": {},
   "source": [
    "# Solve The Optimization Problem"
   ]
  },
  {
   "cell_type": "code",
   "execution_count": null,
   "metadata": {
    "scrolled": true
   },
   "outputs": [],
   "source": [
    "num_teams_to_stack = 1\n",
    "num_players_in_stack = 2\n",
    "nlineups = 3\n",
    "\n",
    "pos_stack = results[results['Roster Position'].apply(lambda y: not y in ['QB', 'DST', 'RB'])] \\\n",
    "    .groupby('TeamAbbrev') \\\n",
    "    .apply(lambda grp: grp.sort_values('pred') \\\n",
    "           .tail(num_players_in_stack - 1)) \\\n",
    "    .reset_index(drop=True)\n",
    "qb_stack = results[results['Roster Position'] == 'QB'].groupby('TeamAbbrev') \\\n",
    "    .apply(lambda grp: grp.sort_values('pred') \\\n",
    "           .tail(1)) \\\n",
    "    .reset_index(drop=True)\n",
    "stacks = pd.concat([qb_stack, pos_stack]).sort_values('TeamAbbrev')\n",
    "stacks['DK salary'] = stacks['Salary'].astype(float)\n",
    "stacked_teams_frame = stacks.groupby('TeamAbbrev').sum().sort_values('pred')\n",
    "stacked_teams = stacked_teams_frame.index.values[-num_teams_to_stack:]\n",
    "\n",
    "S = results['Salary'].values\n",
    "E = results['pred'].values\n",
    "T = results['TeamAbbrev'].values\n",
    "P = results['Roster Position'].apply(lambda x: x.replace(\"/FLEX\",\"\")).values\n",
    "N = results['name'].values\n",
    "total = {}\n",
    "for team in stacked_teams:\n",
    "    prior_lineups = []\n",
    "    for i in range(int(nlineups / num_teams_to_stack)):\n",
    "        X = cp.Variable(len(E), boolean=True)\n",
    "        constraints = [\n",
    "            sum(X) == 9,\n",
    "            X @ S <= 50000,\n",
    "            X @ (P == \"QB\").astype(float) == 1,\n",
    "            X @ (P == \"TE\").astype(float) >= 1,\n",
    "            X @ (P == \"RB\").astype(float) >= 2,\n",
    "            X @ (P == \"WR\").astype(float) >= 3,\n",
    "            X @ (P == \"DST\").astype(float) == 1]\n",
    "        for n in stacks[stacks.TeamAbbrev == team].name.values:\n",
    "            constraints.append(X[np.where(N == n)[0][0]] == 1)\n",
    "        for lineups in prior_lineups:\n",
    "            constraints.append(X @ lineups <= 8)\n",
    "        obj = cp.Maximize(X @ E)\n",
    "        prob = cp.Problem(obj, constraints)\n",
    "        prob.solve()\n",
    "        try:\n",
    "            prior_lineups.append(X.value.copy())\n",
    "        except AttributeError:\n",
    "            print(\"Problem with %s\" % team)"
   ]
  },
  {
   "cell_type": "code",
   "execution_count": null,
   "metadata": {},
   "outputs": [],
   "source": [
    "pd.DataFrame([\n",
    "    N[prior_lineups[0].astype(bool)],\n",
    "    P[prior_lineups[0].astype(bool)],\n",
    "    T[prior_lineups[0].astype(bool)],\n",
    "    S[prior_lineups[0].astype(bool)]]).T[0].values"
   ]
  }
 ],
 "metadata": {
  "kernelspec": {
   "display_name": "Python 3",
   "language": "python",
   "name": "python3"
  },
  "language_info": {
   "codemirror_mode": {
    "name": "ipython",
    "version": 3
   },
   "file_extension": ".py",
   "mimetype": "text/x-python",
   "name": "python",
   "nbconvert_exporter": "python",
   "pygments_lexer": "ipython3",
   "version": "3.8.10"
  }
 },
 "nbformat": 4,
 "nbformat_minor": 4
}
